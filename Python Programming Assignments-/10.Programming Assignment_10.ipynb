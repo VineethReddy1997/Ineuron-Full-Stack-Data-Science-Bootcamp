{
 "cells": [
  {
   "cell_type": "markdown",
   "id": "0753e292",
   "metadata": {},
   "source": [
    "# Python Programming Assignment 10 Solutions"
   ]
  },
  {
   "cell_type": "markdown",
   "id": "d6f96d38",
   "metadata": {},
   "source": [
    "#### 1.Write a Python Program to find sum of elements in a list ?"
   ]
  },
  {
   "cell_type": "code",
   "execution_count": 4,
   "id": "1fbea5b2",
   "metadata": {},
   "outputs": [
    {
     "name": "stdout",
     "output_type": "stream",
     "text": [
      "Enter the No of Entries in a List: 5\n",
      "Enter a element: 10\n",
      "Enter a element: 10\n",
      "Enter a element: 18\n",
      "Enter a element: 16\n",
      "Enter a element: 16\n",
      "Sum of Elements: 70\n"
     ]
    }
   ],
   "source": [
    "def sumofList():\n",
    "    in_ele = int(input('Enter the No of Entries in a List: '))\n",
    "    in_list = []\n",
    "    for itr in range(in_ele):\n",
    "        in_list.append(int(input('Enter a element: ')))\n",
    "    print(f'Sum of Elements: {sum(in_list)}')\n",
    "\n",
    "sumofList()"
   ]
  },
  {
   "cell_type": "markdown",
   "id": "35ff9c7c",
   "metadata": {},
   "source": [
    "#### 2.Write a Python Program to multiply all numbers in the list ?"
   ]
  },
  {
   "cell_type": "code",
   "execution_count": 10,
   "id": "d77e77e6",
   "metadata": {},
   "outputs": [
    {
     "name": "stdout",
     "output_type": "stream",
     "text": [
      "Enter the No of Entries in a List: 5\n",
      "Enter a element: 1\n",
      "Enter a element: 2\n",
      "Enter a element: 3\n",
      "Enter a element: 4\n",
      "Enter a element: 5\n",
      "120\n"
     ]
    }
   ],
   "source": [
    "def mulofList():\n",
    "    in_ele = int(input('Enter the No of Entries in a List: '))\n",
    "    in_list = []\n",
    "    mul = 1\n",
    "    for itr in range(in_ele):\n",
    "        in_list.append(int(input('Enter a element: ')))\n",
    "    for ele in in_list:\n",
    "        mul = mul * ele\n",
    "    print(mul)\n",
    "\n",
    "mulofList()"
   ]
  },
  {
   "cell_type": "markdown",
   "id": "0561967b",
   "metadata": {},
   "source": [
    "##### 3.Write a Python Program to find smallest number in the list ?"
   ]
  },
  {
   "cell_type": "code",
   "execution_count": 11,
   "id": "3e9863eb",
   "metadata": {},
   "outputs": [
    {
     "name": "stdout",
     "output_type": "stream",
     "text": [
      "Enter the No of elements in a list: 5\n",
      "Enter a Element: 2\n",
      "Enter a Element: 4\n",
      "Enter a Element: 6\n",
      "Enter a Element: 3\n",
      "Enter a Element: 4\n",
      "The Smallest Element in [2, 4, 6, 3, 4] is 2\n"
     ]
    }
   ],
   "source": [
    "def smallEleInList():\n",
    "    in_ele = int(input('Enter the No of elements in a list: '))\n",
    "    in_list = []\n",
    "    for ele in range(in_ele):\n",
    "        in_list.append(int(input('Enter a Element: ')))\n",
    "    print(f'The Smallest Element in {in_list} is {sorted(in_list)[0]}')\n",
    "smallEleInList()"
   ]
  },
  {
   "cell_type": "markdown",
   "id": "0684d2e6",
   "metadata": {},
   "source": [
    "#### 4.Write a Python Program to find largest number in the list ?"
   ]
  },
  {
   "cell_type": "code",
   "execution_count": 12,
   "id": "c1984a1c",
   "metadata": {},
   "outputs": [
    {
     "name": "stdout",
     "output_type": "stream",
     "text": [
      "Enter the No of elements in a list: 5\n",
      "Enter a Element: 2\n",
      "Enter a Element: 3\n",
      "Enter a Element: 5\n",
      "Enter a Element: 4\n",
      "Enter a Element: 5\n",
      "The Largest Element in [2, 3, 5, 4, 5] is 5\n"
     ]
    }
   ],
   "source": [
    "def largestEleInList():\n",
    "    in_ele = int(input('Enter the No of elements in a list: '))\n",
    "    in_list = []\n",
    "    for ele in range(in_ele):\n",
    "        in_list.append(int(input('Enter a Element: ')))\n",
    "    print(f'The Largest Element in {in_list} is {sorted(in_list, reverse=True)[0]}')\n",
    "\n",
    "largestEleInList()"
   ]
  },
  {
   "cell_type": "markdown",
   "id": "ef882ac4",
   "metadata": {},
   "source": [
    "#### 5.Write a Python Program to find second largest number in the list ?"
   ]
  },
  {
   "cell_type": "code",
   "execution_count": 1,
   "id": "ca2c5e29",
   "metadata": {},
   "outputs": [
    {
     "name": "stdout",
     "output_type": "stream",
     "text": [
      "Enter the No of elements in a list: 5\n",
      "Enter a Element: 345\n",
      "Enter a Element: 543\n",
      "Enter a Element: 654\n",
      "Enter a Element: 765\n",
      "Enter a Element: 876\n",
      "The Second Largest Element in [345, 543, 654, 765, 876] is 765\n"
     ]
    }
   ],
   "source": [
    "def secondLargestEleInList():\n",
    "    in_ele = int(input('Enter the No of elements in a list: '))\n",
    "    in_list = []\n",
    "    for ele in range(in_ele):\n",
    "        in_list.append(int(input('Enter a Element: ')))\n",
    "    print(f'The Second Largest Element in {in_list} is {sorted(in_list, reverse=True)[1]}')\n",
    "\n",
    "secondLargestEleInList()"
   ]
  },
  {
   "cell_type": "markdown",
   "id": "ee185d52",
   "metadata": {},
   "source": [
    "#### 6.Write a Python Program to find N largest elements in the list ?"
   ]
  },
  {
   "cell_type": "code",
   "execution_count": 2,
   "id": "e2c518fa",
   "metadata": {},
   "outputs": [
    {
     "name": "stdout",
     "output_type": "stream",
     "text": [
      "Enter the No of elements in a list: 10\n",
      "Enter a Element: 3\n",
      "Enter a Element: 4\n",
      "Enter a Element: 5\n",
      "Enter a Element: 6\n",
      "Enter a Element: 78\n",
      "Enter a Element: 7\n",
      "Enter a Element: 77\n",
      "Enter a Element: 66\n",
      "Enter a Element: 55\n",
      "Enter a Element: 667\n",
      "The 4 Largest Element in [3, 4, 5, 6, 78, 7, 77, 66, 55, 667] is [667, 78, 77, 66]\n"
     ]
    }
   ],
   "source": [
    "def nLargestEleInList(k):\n",
    "    in_ele = int(input('Enter the No of elements in a list: '))\n",
    "    in_list = []\n",
    "    for ele in range(in_ele):\n",
    "        in_list.append(int(input('Enter a Element: ')))\n",
    "    print(f'The {k} Largest Element in {in_list} is {sorted(in_list, reverse=True)[0:k]}')\n",
    "\n",
    "nLargestEleInList(4)"
   ]
  },
  {
   "cell_type": "markdown",
   "id": "7f5a2b91",
   "metadata": {},
   "source": [
    "#### 7.Write a Python Program to find even numbers in the list ?"
   ]
  },
  {
   "cell_type": "code",
   "execution_count": 3,
   "id": "e9b0d19a",
   "metadata": {},
   "outputs": [
    {
     "name": "stdout",
     "output_type": "stream",
     "text": [
      "Enter the No of elements in a list: 10\n",
      "Enter a Element: 5\n",
      "Enter a Element: 6\n",
      "Enter a Element: 7\n",
      "Enter a Element: 3\n",
      "Enter a Element: 4\n",
      "Enter a Element: 5\n",
      "Enter a Element: 77\n",
      "Enter a Element: 66\n",
      "Enter a Element: 99\n",
      "Enter a Element: 221\n",
      "The Even Elements in [5, 6, 7, 3, 4, 5, 77, 66, 99, 221] are [6, 4, 66]\n"
     ]
    }
   ],
   "source": [
    "def evenNoInList():\n",
    "    in_ele = int(input('Enter the No of elements in a list: '))\n",
    "    in_list = []\n",
    "    even_list = []\n",
    "    for ele in range(in_ele):\n",
    "        in_list.append(int(input('Enter a Element: ')))\n",
    "    for ele in in_list:\n",
    "        if ele%2 == 0:\n",
    "            even_list.append(ele)\n",
    "    print(f'The Even Elements in {in_list} are {even_list}')\n",
    "\n",
    "evenNoInList()"
   ]
  },
  {
   "cell_type": "markdown",
   "id": "a5d3f862",
   "metadata": {},
   "source": [
    "#### 8.Write a Python Program to find odd numbers in the list ?"
   ]
  },
  {
   "cell_type": "code",
   "execution_count": 5,
   "id": "101d0718",
   "metadata": {},
   "outputs": [
    {
     "name": "stdout",
     "output_type": "stream",
     "text": [
      "Enter the No of elements in a list: 5\n",
      "Enter a Element: 21\n",
      "Enter a Element: 32\n",
      "Enter a Element: 33\n",
      "Enter a Element: 42\n",
      "Enter a Element: 49\n",
      "The odd Elements in [21, 32, 33, 42, 49] are [21, 33, 49]\n"
     ]
    }
   ],
   "source": [
    "def oddNoInList():\n",
    "    in_ele = int(input('Enter the No of elements in a list: '))\n",
    "    in_list = []\n",
    "    odd_list = []\n",
    "    for ele in range(in_ele):\n",
    "        in_list.append(int(input('Enter a Element: ')))\n",
    "    for ele in in_list:\n",
    "        if ele%2 != 0:\n",
    "            odd_list.append(ele)\n",
    "    print(f'The odd Elements in {in_list} are {odd_list}')\n",
    "\n",
    "oddNoInList()"
   ]
  },
  {
   "cell_type": "markdown",
   "id": "f97fa7ea",
   "metadata": {},
   "source": [
    "#### 9.Write a Python Program to remove empty list from list ?"
   ]
  },
  {
   "cell_type": "code",
   "execution_count": 6,
   "id": "193a2ef1",
   "metadata": {},
   "outputs": [
    {
     "name": "stdout",
     "output_type": "stream",
     "text": [
      "Enter all elements of the list: [1,2,[],4,5,6,7,8,9,0]\n",
      "There is an Empty list in [1, 2, [], 4, 5, 6, 7, 8, 9, 0] at Position 2\n",
      "The List after removing [] is [1, 2, 4, 5, 6, 7, 8, 9, 0]\n"
     ]
    }
   ],
   "source": [
    "def checkEmptyList():\n",
    "    in_list = eval(input('Enter all elements of the list: '))\n",
    "    if [] in in_list:\n",
    "        print(f'There is an Empty list in {in_list} at Position {in_list.index([])}')\n",
    "        in_list.remove([])\n",
    "        print(f'The List after removing [] is {in_list}')\n",
    "    else:\n",
    "        print(f'There is no [] List in the list {in_list}')\n",
    "        \n",
    "checkEmptyList()"
   ]
  },
  {
   "cell_type": "markdown",
   "id": "1a5b1f91",
   "metadata": {},
   "source": [
    "#### 10.Write a Python Program to Cloning or Copying a list ?"
   ]
  },
  {
   "cell_type": "code",
   "execution_count": 8,
   "id": "55882ca5",
   "metadata": {},
   "outputs": [
    {
     "name": "stdout",
     "output_type": "stream",
     "text": [
      "Enter a list[1,4,5,5,6,7,7,7,74,5,7,8,65]\n",
      "[1, 4, 5, 5, 6, 7, 7, 7, 74, 5, 7, 8, 65] 2168755985280\n",
      "[1, 4, 5, 5, 6, 7, 7, 7, 74, 5, 7, 8, 65] 2168755984512\n"
     ]
    }
   ],
   "source": [
    "import copy\n",
    "\n",
    "def cloneList():\n",
    "    in_list = eval(input('Enter a list'))\n",
    "    print(in_list, id(in_list))\n",
    "    cloned_list = in_list.copy()\n",
    "    print(cloned_list, id(cloned_list))\n",
    "\n",
    "cloneList()"
   ]
  },
  {
   "cell_type": "markdown",
   "id": "37e5e6bd",
   "metadata": {},
   "source": [
    "#### 11.Write a Python Program to count occurences of an element in a list ?"
   ]
  },
  {
   "cell_type": "code",
   "execution_count": 12,
   "id": "8a5e7b52",
   "metadata": {},
   "outputs": [
    {
     "name": "stdout",
     "output_type": "stream",
     "text": [
      "Enter the elements of the list: [1,4,5,5,6,7,7,7,5]\n",
      "Enter the element to find: 7\n",
      "There are 3 occurences of 7 in [1, 4, 5, 5, 6, 7, 7, 7, 5]\n"
     ]
    }
   ],
   "source": [
    "def checkOccurence():\n",
    "    in_list = eval(input('Enter the elements of the list: '))\n",
    "    in_num = eval(input('Enter the element to find: '))\n",
    "    count = 0\n",
    "    if in_num in in_list:\n",
    "        for ele in in_list:\n",
    "            if ele == in_num:\n",
    "                count = count+1\n",
    "    print(f'There are {count} occurences of {in_num} in {in_list}')\n",
    "    \n",
    "checkOccurence()"
   ]
  },
  {
   "cell_type": "code",
   "execution_count": null,
   "id": "ea9bf523",
   "metadata": {},
   "outputs": [],
   "source": []
  }
 ],
 "metadata": {
  "kernelspec": {
   "display_name": "Python 3 (ipykernel)",
   "language": "python",
   "name": "python3"
  },
  "language_info": {
   "codemirror_mode": {
    "name": "ipython",
    "version": 3
   },
   "file_extension": ".py",
   "mimetype": "text/x-python",
   "name": "python",
   "nbconvert_exporter": "python",
   "pygments_lexer": "ipython3",
   "version": "3.9.7"
  }
 },
 "nbformat": 4,
 "nbformat_minor": 5
}
